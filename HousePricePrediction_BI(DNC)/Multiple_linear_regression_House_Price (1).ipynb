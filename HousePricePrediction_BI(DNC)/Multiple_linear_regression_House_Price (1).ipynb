{
 "cells": [
  {
   "cell_type": "code",
   "execution_count": 37,
   "metadata": {},
   "outputs": [
    {
     "data": {
      "text/plain": [
       "'C:\\\\Users\\\\HP\\\\Desktop\\\\letsupgrade_python'"
      ]
     },
     "execution_count": 37,
     "metadata": {},
     "output_type": "execute_result"
    }
   ],
   "source": [
    "import os\n",
    "os.getcwd()"
   ]
  },
  {
   "cell_type": "code",
   "execution_count": 38,
   "metadata": {},
   "outputs": [
    {
     "data": {
      "text/plain": [
       "'C:\\\\Users\\\\HP\\\\Desktop\\\\letsupgrade_python'"
      ]
     },
     "execution_count": 38,
     "metadata": {},
     "output_type": "execute_result"
    }
   ],
   "source": [
    "os.chdir('C:\\\\Users\\\\HP\\\\Desktop\\\\letsupgrade_python')\n",
    "os.getcwd()"
   ]
  },
  {
   "cell_type": "code",
   "execution_count": 39,
   "metadata": {},
   "outputs": [],
   "source": [
    "import numpy as np\n",
    "import pandas as pd\n",
    "import matplotlib.pyplot as plt\n",
    "import seaborn as sns\n",
    "%matplotlib inline"
   ]
  },
  {
   "cell_type": "code",
   "execution_count": 40,
   "metadata": {},
   "outputs": [
    {
     "data": {
      "text/html": [
       "<div>\n",
       "<style scoped>\n",
       "    .dataframe tbody tr th:only-of-type {\n",
       "        vertical-align: middle;\n",
       "    }\n",
       "\n",
       "    .dataframe tbody tr th {\n",
       "        vertical-align: top;\n",
       "    }\n",
       "\n",
       "    .dataframe thead th {\n",
       "        text-align: right;\n",
       "    }\n",
       "</style>\n",
       "<table border=\"1\" class=\"dataframe\">\n",
       "  <thead>\n",
       "    <tr style=\"text-align: right;\">\n",
       "      <th></th>\n",
       "      <th>Id</th>\n",
       "      <th>LotFrontage</th>\n",
       "      <th>LotArea</th>\n",
       "      <th>Alley</th>\n",
       "      <th>MasVnrArea</th>\n",
       "      <th>1stFlrSF</th>\n",
       "      <th>2ndFlrSF</th>\n",
       "      <th>GrLivArea</th>\n",
       "      <th>GarageType</th>\n",
       "      <th>GarageArea</th>\n",
       "      <th>SalePrice</th>\n",
       "    </tr>\n",
       "  </thead>\n",
       "  <tbody>\n",
       "    <tr>\n",
       "      <th>0</th>\n",
       "      <td>1</td>\n",
       "      <td>65.0</td>\n",
       "      <td>8450</td>\n",
       "      <td>NaN</td>\n",
       "      <td>196.0</td>\n",
       "      <td>856</td>\n",
       "      <td>854</td>\n",
       "      <td>1710</td>\n",
       "      <td>Attchd</td>\n",
       "      <td>548</td>\n",
       "      <td>208500</td>\n",
       "    </tr>\n",
       "    <tr>\n",
       "      <th>1</th>\n",
       "      <td>2</td>\n",
       "      <td>80.0</td>\n",
       "      <td>9600</td>\n",
       "      <td>NaN</td>\n",
       "      <td>0.0</td>\n",
       "      <td>1262</td>\n",
       "      <td>0</td>\n",
       "      <td>1262</td>\n",
       "      <td>Attchd</td>\n",
       "      <td>460</td>\n",
       "      <td>181500</td>\n",
       "    </tr>\n",
       "    <tr>\n",
       "      <th>2</th>\n",
       "      <td>3</td>\n",
       "      <td>68.0</td>\n",
       "      <td>11250</td>\n",
       "      <td>NaN</td>\n",
       "      <td>162.0</td>\n",
       "      <td>920</td>\n",
       "      <td>866</td>\n",
       "      <td>1786</td>\n",
       "      <td>Attchd</td>\n",
       "      <td>608</td>\n",
       "      <td>223500</td>\n",
       "    </tr>\n",
       "    <tr>\n",
       "      <th>3</th>\n",
       "      <td>4</td>\n",
       "      <td>60.0</td>\n",
       "      <td>9550</td>\n",
       "      <td>NaN</td>\n",
       "      <td>0.0</td>\n",
       "      <td>961</td>\n",
       "      <td>756</td>\n",
       "      <td>1717</td>\n",
       "      <td>Detchd</td>\n",
       "      <td>642</td>\n",
       "      <td>140000</td>\n",
       "    </tr>\n",
       "    <tr>\n",
       "      <th>4</th>\n",
       "      <td>5</td>\n",
       "      <td>84.0</td>\n",
       "      <td>14260</td>\n",
       "      <td>NaN</td>\n",
       "      <td>350.0</td>\n",
       "      <td>1145</td>\n",
       "      <td>1053</td>\n",
       "      <td>2198</td>\n",
       "      <td>Attchd</td>\n",
       "      <td>836</td>\n",
       "      <td>250000</td>\n",
       "    </tr>\n",
       "  </tbody>\n",
       "</table>\n",
       "</div>"
      ],
      "text/plain": [
       "   Id  LotFrontage  LotArea Alley  MasVnrArea  1stFlrSF  2ndFlrSF  GrLivArea  \\\n",
       "0   1         65.0     8450   NaN       196.0       856       854       1710   \n",
       "1   2         80.0     9600   NaN         0.0      1262         0       1262   \n",
       "2   3         68.0    11250   NaN       162.0       920       866       1786   \n",
       "3   4         60.0     9550   NaN         0.0       961       756       1717   \n",
       "4   5         84.0    14260   NaN       350.0      1145      1053       2198   \n",
       "\n",
       "  GarageType  GarageArea  SalePrice  \n",
       "0     Attchd         548     208500  \n",
       "1     Attchd         460     181500  \n",
       "2     Attchd         608     223500  \n",
       "3     Detchd         642     140000  \n",
       "4     Attchd         836     250000  "
      ]
     },
     "execution_count": 40,
     "metadata": {},
     "output_type": "execute_result"
    }
   ],
   "source": [
    "dataset = pd.read_csv(\"House Price.csv\")\n",
    "dataset.head()"
   ]
  },
  {
   "cell_type": "code",
   "execution_count": 41,
   "metadata": {},
   "outputs": [
    {
     "name": "stdout",
     "output_type": "stream",
     "text": [
      "<class 'pandas.core.frame.DataFrame'>\n",
      "RangeIndex: 1460 entries, 0 to 1459\n",
      "Data columns (total 11 columns):\n",
      " #   Column       Non-Null Count  Dtype  \n",
      "---  ------       --------------  -----  \n",
      " 0   Id           1460 non-null   int64  \n",
      " 1   LotFrontage  1201 non-null   float64\n",
      " 2   LotArea      1460 non-null   int64  \n",
      " 3   Alley        91 non-null     object \n",
      " 4   MasVnrArea   1452 non-null   float64\n",
      " 5   1stFlrSF     1460 non-null   int64  \n",
      " 6   2ndFlrSF     1460 non-null   int64  \n",
      " 7   GrLivArea    1460 non-null   int64  \n",
      " 8   GarageType   1379 non-null   object \n",
      " 9   GarageArea   1460 non-null   int64  \n",
      " 10  SalePrice    1460 non-null   int64  \n",
      "dtypes: float64(2), int64(7), object(2)\n",
      "memory usage: 125.6+ KB\n"
     ]
    }
   ],
   "source": [
    "dataset.info()"
   ]
  },
  {
   "cell_type": "code",
   "execution_count": 42,
   "metadata": {},
   "outputs": [
    {
     "name": "stdout",
     "output_type": "stream",
     "text": [
      "(1460, 11)\n"
     ]
    }
   ],
   "source": [
    "print(dataset.shape)"
   ]
  },
  {
   "cell_type": "code",
   "execution_count": 43,
   "metadata": {},
   "outputs": [
    {
     "data": {
      "text/plain": [
       "Id                0\n",
       "LotFrontage     259\n",
       "LotArea           0\n",
       "Alley          1369\n",
       "MasVnrArea        8\n",
       "1stFlrSF          0\n",
       "2ndFlrSF          0\n",
       "GrLivArea         0\n",
       "GarageType       81\n",
       "GarageArea        0\n",
       "SalePrice         0\n",
       "dtype: int64"
      ]
     },
     "execution_count": 43,
     "metadata": {},
     "output_type": "execute_result"
    }
   ],
   "source": [
    "#check missing value\n",
    "dataset.isnull().sum()"
   ]
  },
  {
   "cell_type": "code",
   "execution_count": 44,
   "metadata": {},
   "outputs": [
    {
     "data": {
      "text/html": [
       "<div>\n",
       "<style scoped>\n",
       "    .dataframe tbody tr th:only-of-type {\n",
       "        vertical-align: middle;\n",
       "    }\n",
       "\n",
       "    .dataframe tbody tr th {\n",
       "        vertical-align: top;\n",
       "    }\n",
       "\n",
       "    .dataframe thead th {\n",
       "        text-align: right;\n",
       "    }\n",
       "</style>\n",
       "<table border=\"1\" class=\"dataframe\">\n",
       "  <thead>\n",
       "    <tr style=\"text-align: right;\">\n",
       "      <th></th>\n",
       "      <th>Id</th>\n",
       "      <th>LotFrontage</th>\n",
       "      <th>LotArea</th>\n",
       "      <th>MasVnrArea</th>\n",
       "      <th>1stFlrSF</th>\n",
       "      <th>2ndFlrSF</th>\n",
       "      <th>GrLivArea</th>\n",
       "      <th>GarageType</th>\n",
       "      <th>GarageArea</th>\n",
       "      <th>SalePrice</th>\n",
       "    </tr>\n",
       "  </thead>\n",
       "  <tbody>\n",
       "    <tr>\n",
       "      <th>0</th>\n",
       "      <td>1</td>\n",
       "      <td>65.0</td>\n",
       "      <td>8450</td>\n",
       "      <td>196.0</td>\n",
       "      <td>856</td>\n",
       "      <td>854</td>\n",
       "      <td>1710</td>\n",
       "      <td>Attchd</td>\n",
       "      <td>548</td>\n",
       "      <td>208500</td>\n",
       "    </tr>\n",
       "    <tr>\n",
       "      <th>1</th>\n",
       "      <td>2</td>\n",
       "      <td>80.0</td>\n",
       "      <td>9600</td>\n",
       "      <td>0.0</td>\n",
       "      <td>1262</td>\n",
       "      <td>0</td>\n",
       "      <td>1262</td>\n",
       "      <td>Attchd</td>\n",
       "      <td>460</td>\n",
       "      <td>181500</td>\n",
       "    </tr>\n",
       "    <tr>\n",
       "      <th>2</th>\n",
       "      <td>3</td>\n",
       "      <td>68.0</td>\n",
       "      <td>11250</td>\n",
       "      <td>162.0</td>\n",
       "      <td>920</td>\n",
       "      <td>866</td>\n",
       "      <td>1786</td>\n",
       "      <td>Attchd</td>\n",
       "      <td>608</td>\n",
       "      <td>223500</td>\n",
       "    </tr>\n",
       "    <tr>\n",
       "      <th>3</th>\n",
       "      <td>4</td>\n",
       "      <td>60.0</td>\n",
       "      <td>9550</td>\n",
       "      <td>0.0</td>\n",
       "      <td>961</td>\n",
       "      <td>756</td>\n",
       "      <td>1717</td>\n",
       "      <td>Detchd</td>\n",
       "      <td>642</td>\n",
       "      <td>140000</td>\n",
       "    </tr>\n",
       "    <tr>\n",
       "      <th>4</th>\n",
       "      <td>5</td>\n",
       "      <td>84.0</td>\n",
       "      <td>14260</td>\n",
       "      <td>350.0</td>\n",
       "      <td>1145</td>\n",
       "      <td>1053</td>\n",
       "      <td>2198</td>\n",
       "      <td>Attchd</td>\n",
       "      <td>836</td>\n",
       "      <td>250000</td>\n",
       "    </tr>\n",
       "  </tbody>\n",
       "</table>\n",
       "</div>"
      ],
      "text/plain": [
       "   Id  LotFrontage  LotArea  MasVnrArea  1stFlrSF  2ndFlrSF  GrLivArea  \\\n",
       "0   1         65.0     8450       196.0       856       854       1710   \n",
       "1   2         80.0     9600         0.0      1262         0       1262   \n",
       "2   3         68.0    11250       162.0       920       866       1786   \n",
       "3   4         60.0     9550         0.0       961       756       1717   \n",
       "4   5         84.0    14260       350.0      1145      1053       2198   \n",
       "\n",
       "  GarageType  GarageArea  SalePrice  \n",
       "0     Attchd         548     208500  \n",
       "1     Attchd         460     181500  \n",
       "2     Attchd         608     223500  \n",
       "3     Detchd         642     140000  \n",
       "4     Attchd         836     250000  "
      ]
     },
     "execution_count": 44,
     "metadata": {},
     "output_type": "execute_result"
    }
   ],
   "source": [
    "\n",
    "#Dropping Alley column\n",
    "dataset.drop('Alley', axis = 1, inplace = True)\n",
    "dataset.head()"
   ]
  },
  {
   "cell_type": "code",
   "execution_count": 45,
   "metadata": {},
   "outputs": [
    {
     "data": {
      "text/plain": [
       "Id               0\n",
       "LotFrontage    259\n",
       "LotArea          0\n",
       "MasVnrArea       8\n",
       "1stFlrSF         0\n",
       "2ndFlrSF         0\n",
       "GrLivArea        0\n",
       "GarageType      81\n",
       "GarageArea       0\n",
       "SalePrice        0\n",
       "dtype: int64"
      ]
     },
     "execution_count": 45,
     "metadata": {},
     "output_type": "execute_result"
    }
   ],
   "source": [
    "dataset.isnull().sum()"
   ]
  },
  {
   "cell_type": "code",
   "execution_count": 46,
   "metadata": {},
   "outputs": [
    {
     "data": {
      "text/plain": [
       "<AxesSubplot:ylabel='LotFrontage'>"
      ]
     },
     "execution_count": 46,
     "metadata": {},
     "output_type": "execute_result"
    },
    {
     "data": {
      "image/png": "[encoded data removed]",
      "text/plain": [
       "<Figure size 432x288 with 1 Axes>"
      ]
     },
     "metadata": {
      "needs_background": "light"
     },
     "output_type": "display_data"
    }
   ],
   "source": [
    "#checking outlier(outlier)\n",
    "sns.boxplot(y='LotFrontage',data=dataset)"
   ]
  },
  {
   "cell_type": "code",
   "execution_count": 47,
   "metadata": {},
   "outputs": [
    {
     "data": {
      "text/plain": [
       "<AxesSubplot:ylabel='MasVnrArea'>"
      ]
     },
     "execution_count": 47,
     "metadata": {},
     "output_type": "execute_result"
    },
    {
     "data": {
      "image/png": "[encoded data removed]",
      "text/plain": [
       "<Figure size 432x288 with 1 Axes>"
      ]
     },
     "metadata": {
      "needs_background": "light"
     },
     "output_type": "display_data"
    }
   ],
   "source": [
    "#outlier found\n",
    "sns.boxplot(y='MasVnrArea',data=dataset)"
   ]
  },
  {
   "cell_type": "code",
   "execution_count": 48,
   "metadata": {},
   "outputs": [
    {
     "data": {
      "text/plain": [
       "Attchd     870\n",
       "Detchd     387\n",
       "BuiltIn     88\n",
       "Basment     19\n",
       "CarPort      9\n",
       "2Types       6\n",
       "Name: GarageType, dtype: int64"
      ]
     },
     "execution_count": 48,
     "metadata": {},
     "output_type": "execute_result"
    }
   ],
   "source": [
    "#categorical data (using mode)\n",
    "dataset['GarageType'].value_counts()"
   ]
  },
  {
   "cell_type": "code",
   "execution_count": 49,
   "metadata": {},
   "outputs": [],
   "source": [
    "dataset['LotFrontage']=dataset['LotFrontage'].fillna(dataset['LotFrontage'].median())"
   ]
  },
  {
   "cell_type": "code",
   "execution_count": 50,
   "metadata": {},
   "outputs": [],
   "source": [
    "dataset['MasVnrArea']=dataset['MasVnrArea'].fillna(dataset['MasVnrArea'].median())"
   ]
  },
  {
   "cell_type": "code",
   "execution_count": 51,
   "metadata": {},
   "outputs": [],
   "source": [
    "\n",
    "dataset['GarageType'] = dataset['GarageType'].fillna(dataset.GarageType.mode()[0])"
   ]
  },
  {
   "cell_type": "code",
   "execution_count": 52,
   "metadata": {},
   "outputs": [
    {
     "data": {
      "text/plain": [
       "Id             0\n",
       "LotFrontage    0\n",
       "LotArea        0\n",
       "MasVnrArea     0\n",
       "1stFlrSF       0\n",
       "2ndFlrSF       0\n",
       "GrLivArea      0\n",
       "GarageType     0\n",
       "GarageArea     0\n",
       "SalePrice      0\n",
       "dtype: int64"
      ]
     },
     "execution_count": 52,
     "metadata": {},
     "output_type": "execute_result"
    }
   ],
   "source": [
    "dataset.isnull().sum()"
   ]
  },
  {
   "cell_type": "code",
   "execution_count": 53,
   "metadata": {},
   "outputs": [
    {
     "name": "stdout",
     "output_type": "stream",
     "text": [
      "<class 'pandas.core.frame.DataFrame'>\n",
      "RangeIndex: 1460 entries, 0 to 1459\n",
      "Data columns (total 10 columns):\n",
      " #   Column       Non-Null Count  Dtype  \n",
      "---  ------       --------------  -----  \n",
      " 0   Id           1460 non-null   int64  \n",
      " 1   LotFrontage  1460 non-null   float64\n",
      " 2   LotArea      1460 non-null   int64  \n",
      " 3   MasVnrArea   1460 non-null   float64\n",
      " 4   1stFlrSF     1460 non-null   int64  \n",
      " 5   2ndFlrSF     1460 non-null   int64  \n",
      " 6   GrLivArea    1460 non-null   int64  \n",
      " 7   GarageType   1460 non-null   object \n",
      " 8   GarageArea   1460 non-null   int64  \n",
      " 9   SalePrice    1460 non-null   int64  \n",
      "dtypes: float64(2), int64(7), object(1)\n",
      "memory usage: 114.2+ KB\n"
     ]
    }
   ],
   "source": [
    "dataset.info()"
   ]
  },
  {
   "cell_type": "code",
   "execution_count": 54,
   "metadata": {},
   "outputs": [
    {
     "name": "stdout",
     "output_type": "stream",
     "text": [
      "   Id  LotFrontage  LotArea  MasVnrArea  1stFlrSF  2ndFlrSF  GrLivArea  \\\n",
      "0   1         65.0     8450       196.0       856       854       1710   \n",
      "1   2         80.0     9600         0.0      1262         0       1262   \n",
      "2   3         68.0    11250       162.0       920       866       1786   \n",
      "3   4         60.0     9550         0.0       961       756       1717   \n",
      "4   5         84.0    14260       350.0      1145      1053       2198   \n",
      "\n",
      "   GarageArea  SalePrice  GarageType_2Types  GarageType_Attchd  \\\n",
      "0         548     208500                  0                  1   \n",
      "1         460     181500                  0                  1   \n",
      "2         608     223500                  0                  1   \n",
      "3         642     140000                  0                  0   \n",
      "4         836     250000                  0                  1   \n",
      "\n",
      "   GarageType_Basment  GarageType_BuiltIn  GarageType_CarPort  \\\n",
      "0                   0                   0                   0   \n",
      "1                   0                   0                   0   \n",
      "2                   0                   0                   0   \n",
      "3                   0                   0                   0   \n",
      "4                   0                   0                   0   \n",
      "\n",
      "   GarageType_Detchd  \n",
      "0                  0  \n",
      "1                  0  \n",
      "2                  0  \n",
      "3                  1  \n",
      "4                  0  \n"
     ]
    }
   ],
   "source": [
    "#Encoding concept (bec of catogorical data)\n",
    "dataset1 = pd.get_dummies(dataset, columns=['GarageType'])\n",
    "print(dataset1.head())"
   ]
  },
  {
   "cell_type": "code",
   "execution_count": 55,
   "metadata": {},
   "outputs": [
    {
     "data": {
      "text/plain": [
       "(1460, 15)"
      ]
     },
     "execution_count": 55,
     "metadata": {},
     "output_type": "execute_result"
    }
   ],
   "source": [
    "dataset1.shape"
   ]
  },
  {
   "cell_type": "code",
   "execution_count": 56,
   "metadata": {},
   "outputs": [
    {
     "data": {
      "text/plain": [
       "Index(['Id', 'LotFrontage', 'LotArea', 'MasVnrArea', '1stFlrSF', '2ndFlrSF',\n",
       "       'GrLivArea', 'GarageArea', 'SalePrice', 'GarageType_2Types',\n",
       "       'GarageType_Attchd', 'GarageType_Basment', 'GarageType_BuiltIn',\n",
       "       'GarageType_CarPort', 'GarageType_Detchd'],\n",
       "      dtype='object')"
      ]
     },
     "execution_count": 56,
     "metadata": {},
     "output_type": "execute_result"
    }
   ],
   "source": [
    "dataset1.columns"
   ]
  },
  {
   "cell_type": "code",
   "execution_count": 57,
   "metadata": {},
   "outputs": [
    {
     "data": {
      "text/html": [
       "<div>\n",
       "<style scoped>\n",
       "    .dataframe tbody tr th:only-of-type {\n",
       "        vertical-align: middle;\n",
       "    }\n",
       "\n",
       "    .dataframe tbody tr th {\n",
       "        vertical-align: top;\n",
       "    }\n",
       "\n",
       "    .dataframe thead th {\n",
       "        text-align: right;\n",
       "    }\n",
       "</style>\n",
       "<table border=\"1\" class=\"dataframe\">\n",
       "  <thead>\n",
       "    <tr style=\"text-align: right;\">\n",
       "      <th></th>\n",
       "      <th>Id</th>\n",
       "      <th>LotFrontage</th>\n",
       "      <th>LotArea</th>\n",
       "      <th>MasVnrArea</th>\n",
       "      <th>1stFlrSF</th>\n",
       "      <th>2ndFlrSF</th>\n",
       "      <th>GrLivArea</th>\n",
       "      <th>GarageArea</th>\n",
       "      <th>SalePrice</th>\n",
       "      <th>GarageType_2Types</th>\n",
       "      <th>GarageType_Attchd</th>\n",
       "      <th>GarageType_Basment</th>\n",
       "      <th>GarageType_BuiltIn</th>\n",
       "      <th>GarageType_CarPort</th>\n",
       "      <th>GarageType_Detchd</th>\n",
       "    </tr>\n",
       "  </thead>\n",
       "  <tbody>\n",
       "    <tr>\n",
       "      <th>0</th>\n",
       "      <td>1</td>\n",
       "      <td>65.0</td>\n",
       "      <td>8450</td>\n",
       "      <td>196.0</td>\n",
       "      <td>856</td>\n",
       "      <td>854</td>\n",
       "      <td>1710</td>\n",
       "      <td>548</td>\n",
       "      <td>208500</td>\n",
       "      <td>0</td>\n",
       "      <td>1</td>\n",
       "      <td>0</td>\n",
       "      <td>0</td>\n",
       "      <td>0</td>\n",
       "      <td>0</td>\n",
       "    </tr>\n",
       "    <tr>\n",
       "      <th>1</th>\n",
       "      <td>2</td>\n",
       "      <td>80.0</td>\n",
       "      <td>9600</td>\n",
       "      <td>0.0</td>\n",
       "      <td>1262</td>\n",
       "      <td>0</td>\n",
       "      <td>1262</td>\n",
       "      <td>460</td>\n",
       "      <td>181500</td>\n",
       "      <td>0</td>\n",
       "      <td>1</td>\n",
       "      <td>0</td>\n",
       "      <td>0</td>\n",
       "      <td>0</td>\n",
       "      <td>0</td>\n",
       "    </tr>\n",
       "    <tr>\n",
       "      <th>2</th>\n",
       "      <td>3</td>\n",
       "      <td>68.0</td>\n",
       "      <td>11250</td>\n",
       "      <td>162.0</td>\n",
       "      <td>920</td>\n",
       "      <td>866</td>\n",
       "      <td>1786</td>\n",
       "      <td>608</td>\n",
       "      <td>223500</td>\n",
       "      <td>0</td>\n",
       "      <td>1</td>\n",
       "      <td>0</td>\n",
       "      <td>0</td>\n",
       "      <td>0</td>\n",
       "      <td>0</td>\n",
       "    </tr>\n",
       "    <tr>\n",
       "      <th>3</th>\n",
       "      <td>4</td>\n",
       "      <td>60.0</td>\n",
       "      <td>9550</td>\n",
       "      <td>0.0</td>\n",
       "      <td>961</td>\n",
       "      <td>756</td>\n",
       "      <td>1717</td>\n",
       "      <td>642</td>\n",
       "      <td>140000</td>\n",
       "      <td>0</td>\n",
       "      <td>0</td>\n",
       "      <td>0</td>\n",
       "      <td>0</td>\n",
       "      <td>0</td>\n",
       "      <td>1</td>\n",
       "    </tr>\n",
       "    <tr>\n",
       "      <th>4</th>\n",
       "      <td>5</td>\n",
       "      <td>84.0</td>\n",
       "      <td>14260</td>\n",
       "      <td>350.0</td>\n",
       "      <td>1145</td>\n",
       "      <td>1053</td>\n",
       "      <td>2198</td>\n",
       "      <td>836</td>\n",
       "      <td>250000</td>\n",
       "      <td>0</td>\n",
       "      <td>1</td>\n",
       "      <td>0</td>\n",
       "      <td>0</td>\n",
       "      <td>0</td>\n",
       "      <td>0</td>\n",
       "    </tr>\n",
       "  </tbody>\n",
       "</table>\n",
       "</div>"
      ],
      "text/plain": [
       "   Id  LotFrontage  LotArea  MasVnrArea  1stFlrSF  2ndFlrSF  GrLivArea  \\\n",
       "0   1         65.0     8450       196.0       856       854       1710   \n",
       "1   2         80.0     9600         0.0      1262         0       1262   \n",
       "2   3         68.0    11250       162.0       920       866       1786   \n",
       "3   4         60.0     9550         0.0       961       756       1717   \n",
       "4   5         84.0    14260       350.0      1145      1053       2198   \n",
       "\n",
       "   GarageArea  SalePrice  GarageType_2Types  GarageType_Attchd  \\\n",
       "0         548     208500                  0                  1   \n",
       "1         460     181500                  0                  1   \n",
       "2         608     223500                  0                  1   \n",
       "3         642     140000                  0                  0   \n",
       "4         836     250000                  0                  1   \n",
       "\n",
       "   GarageType_Basment  GarageType_BuiltIn  GarageType_CarPort  \\\n",
       "0                   0                   0                   0   \n",
       "1                   0                   0                   0   \n",
       "2                   0                   0                   0   \n",
       "3                   0                   0                   0   \n",
       "4                   0                   0                   0   \n",
       "\n",
       "   GarageType_Detchd  \n",
       "0                  0  \n",
       "1                  0  \n",
       "2                  0  \n",
       "3                  1  \n",
       "4                  0  "
      ]
     },
     "execution_count": 57,
     "metadata": {},
     "output_type": "execute_result"
    }
   ],
   "source": [
    "dataset1.head()"
   ]
  },
  {
   "cell_type": "code",
   "execution_count": 58,
   "metadata": {},
   "outputs": [
    {
     "data": {
      "text/html": [
       "<div>\n",
       "<style scoped>\n",
       "    .dataframe tbody tr th:only-of-type {\n",
       "        vertical-align: middle;\n",
       "    }\n",
       "\n",
       "    .dataframe tbody tr th {\n",
       "        vertical-align: top;\n",
       "    }\n",
       "\n",
       "    .dataframe thead th {\n",
       "        text-align: right;\n",
       "    }\n",
       "</style>\n",
       "<table border=\"1\" class=\"dataframe\">\n",
       "  <thead>\n",
       "    <tr style=\"text-align: right;\">\n",
       "      <th></th>\n",
       "      <th>LotFrontage</th>\n",
       "      <th>LotArea</th>\n",
       "      <th>MasVnrArea</th>\n",
       "      <th>1stFlrSF</th>\n",
       "      <th>2ndFlrSF</th>\n",
       "      <th>GrLivArea</th>\n",
       "      <th>GarageArea</th>\n",
       "      <th>GarageType_2Types</th>\n",
       "      <th>GarageType_Attchd</th>\n",
       "      <th>GarageType_Basment</th>\n",
       "      <th>GarageType_BuiltIn</th>\n",
       "      <th>GarageType_CarPort</th>\n",
       "      <th>GarageType_Detchd</th>\n",
       "    </tr>\n",
       "  </thead>\n",
       "  <tbody>\n",
       "    <tr>\n",
       "      <th>0</th>\n",
       "      <td>65.0</td>\n",
       "      <td>8450</td>\n",
       "      <td>196.0</td>\n",
       "      <td>856</td>\n",
       "      <td>854</td>\n",
       "      <td>1710</td>\n",
       "      <td>548</td>\n",
       "      <td>0</td>\n",
       "      <td>1</td>\n",
       "      <td>0</td>\n",
       "      <td>0</td>\n",
       "      <td>0</td>\n",
       "      <td>0</td>\n",
       "    </tr>\n",
       "    <tr>\n",
       "      <th>1</th>\n",
       "      <td>80.0</td>\n",
       "      <td>9600</td>\n",
       "      <td>0.0</td>\n",
       "      <td>1262</td>\n",
       "      <td>0</td>\n",
       "      <td>1262</td>\n",
       "      <td>460</td>\n",
       "      <td>0</td>\n",
       "      <td>1</td>\n",
       "      <td>0</td>\n",
       "      <td>0</td>\n",
       "      <td>0</td>\n",
       "      <td>0</td>\n",
       "    </tr>\n",
       "    <tr>\n",
       "      <th>2</th>\n",
       "      <td>68.0</td>\n",
       "      <td>11250</td>\n",
       "      <td>162.0</td>\n",
       "      <td>920</td>\n",
       "      <td>866</td>\n",
       "      <td>1786</td>\n",
       "      <td>608</td>\n",
       "      <td>0</td>\n",
       "      <td>1</td>\n",
       "      <td>0</td>\n",
       "      <td>0</td>\n",
       "      <td>0</td>\n",
       "      <td>0</td>\n",
       "    </tr>\n",
       "    <tr>\n",
       "      <th>3</th>\n",
       "      <td>60.0</td>\n",
       "      <td>9550</td>\n",
       "      <td>0.0</td>\n",
       "      <td>961</td>\n",
       "      <td>756</td>\n",
       "      <td>1717</td>\n",
       "      <td>642</td>\n",
       "      <td>0</td>\n",
       "      <td>0</td>\n",
       "      <td>0</td>\n",
       "      <td>0</td>\n",
       "      <td>0</td>\n",
       "      <td>1</td>\n",
       "    </tr>\n",
       "    <tr>\n",
       "      <th>4</th>\n",
       "      <td>84.0</td>\n",
       "      <td>14260</td>\n",
       "      <td>350.0</td>\n",
       "      <td>1145</td>\n",
       "      <td>1053</td>\n",
       "      <td>2198</td>\n",
       "      <td>836</td>\n",
       "      <td>0</td>\n",
       "      <td>1</td>\n",
       "      <td>0</td>\n",
       "      <td>0</td>\n",
       "      <td>0</td>\n",
       "      <td>0</td>\n",
       "    </tr>\n",
       "  </tbody>\n",
       "</table>\n",
       "</div>"
      ],
      "text/plain": [
       "   LotFrontage  LotArea  MasVnrArea  1stFlrSF  2ndFlrSF  GrLivArea  \\\n",
       "0         65.0     8450       196.0       856       854       1710   \n",
       "1         80.0     9600         0.0      1262         0       1262   \n",
       "2         68.0    11250       162.0       920       866       1786   \n",
       "3         60.0     9550         0.0       961       756       1717   \n",
       "4         84.0    14260       350.0      1145      1053       2198   \n",
       "\n",
       "   GarageArea  GarageType_2Types  GarageType_Attchd  GarageType_Basment  \\\n",
       "0         548                  0                  1                   0   \n",
       "1         460                  0                  1                   0   \n",
       "2         608                  0                  1                   0   \n",
       "3         642                  0                  0                   0   \n",
       "4         836                  0                  1                   0   \n",
       "\n",
       "   GarageType_BuiltIn  GarageType_CarPort  GarageType_Detchd  \n",
       "0                   0                   0                  0  \n",
       "1                   0                   0                  0  \n",
       "2                   0                   0                  0  \n",
       "3                   0                   0                  1  \n",
       "4                   0                   0                  0  "
      ]
     },
     "execution_count": 58,
     "metadata": {},
     "output_type": "execute_result"
    }
   ],
   "source": [
    "# split the data into independent_variable (x) and dependent_variable (y)\n",
    "x = dataset1[['LotFrontage', 'LotArea', 'MasVnrArea', '1stFlrSF', '2ndFlrSF',\n",
    "       'GrLivArea', 'GarageArea', 'GarageType_2Types',\n",
    "       'GarageType_Attchd', 'GarageType_Basment', 'GarageType_BuiltIn',\n",
    "       'GarageType_CarPort', 'GarageType_Detchd']]\n",
    "x.head()\n"
   ]
  },
  {
   "cell_type": "code",
   "execution_count": 59,
   "metadata": {},
   "outputs": [
    {
     "data": {
      "text/plain": [
       "0       208500\n",
       "1       181500\n",
       "2       223500\n",
       "3       140000\n",
       "4       250000\n",
       "         ...  \n",
       "1455    175000\n",
       "1456    210000\n",
       "1457    266500\n",
       "1458    142125\n",
       "1459    147500\n",
       "Name: SalePrice, Length: 1460, dtype: int64"
      ]
     },
     "execution_count": 59,
     "metadata": {},
     "output_type": "execute_result"
    }
   ],
   "source": [
    "#dependent variable\n",
    "y = dataset1['SalePrice']\n",
    "y"
   ]
  },
  {
   "cell_type": "code",
   "execution_count": 60,
   "metadata": {},
   "outputs": [
    {
     "name": "stdout",
     "output_type": "stream",
     "text": [
      "(1168, 13)\n",
      "(292, 13)\n",
      "(1168,)\n",
      "(292,)\n"
     ]
    }
   ],
   "source": [
    "# split the data into training and test\n",
    "from sklearn.model_selection import train_test_split \n",
    "x_train, x_test, y_train, y_test = train_test_split(x,y, test_size=0.20, random_state = 100)\n",
    "\n",
    "print(x_train.shape)\n",
    "print(x_test.shape)\n",
    "print(y_train.shape)\n",
    "print(y_test.shape)"
   ]
  },
  {
   "cell_type": "code",
   "execution_count": 61,
   "metadata": {},
   "outputs": [
    {
     "data": {
      "text/plain": [
       "LinearRegression()"
      ]
     },
     "execution_count": 61,
     "metadata": {},
     "output_type": "execute_result"
    }
   ],
   "source": [
    "from sklearn.linear_model import LinearRegression\n",
    "reg = LinearRegression()\n",
    "reg.fit(x_train, y_train)"
   ]
  },
  {
   "cell_type": "code",
   "execution_count": 62,
   "metadata": {},
   "outputs": [
    {
     "data": {
      "text/plain": [
       "array([113769.21630951, 194878.03668768, 165722.95748913, 211282.73646119,\n",
       "       145120.86103164, 233706.48926938, 213536.74803573, 267012.08183464,\n",
       "        94171.90287771, 197870.93190312, 191801.33171418, 178401.14382608,\n",
       "       201382.96736385, 192603.27848307, 119237.03530237, 104517.93951656,\n",
       "       193739.73306114, 108629.79636995, 140268.33114046, 129657.09170479,\n",
       "       174400.01596442,  91597.2098859 , 169776.17873925, 123153.56021112,\n",
       "       190827.87481205,  88100.22437653,  40327.50934359,  99343.23240587,\n",
       "       194619.19842986, 161538.51715347, 177021.55663433, 180278.93077124,\n",
       "       242246.71324435,  85603.30193326, 105192.33484471,  83302.35274759,\n",
       "        96659.90570276, 121619.46848191, 194671.6360856 , 143227.56841185,\n",
       "       261278.16740519, 203771.8489422 , 234648.95229006, 102929.11277472,\n",
       "       173780.39533794,  84118.36858259, 283913.28883502, 134287.92490146,\n",
       "       142895.24783739,  64121.99248818, 248616.08177818, 150283.35923392,\n",
       "       307111.76027806, 203707.81571291, 149787.17769946, 192171.90156904,\n",
       "        79837.51483329, 209267.18931611, 185030.63008303, 315499.22690803,\n",
       "       139068.42405913, 256406.64511502, 163341.51066581, 154174.33430172,\n",
       "       156245.67900218, 226522.52232292,  93306.45123381, 135831.26342733,\n",
       "       193678.89330612, 153858.02135452, 224837.47846271, 288205.04793956,\n",
       "       250962.16728763, 141733.58220573, 188543.17688406, 170209.30736562,\n",
       "       120013.6975423 , 218026.27753986, 234176.826279  , 216411.19388038,\n",
       "       113427.14604365, 197522.41425085, 219008.80185131, 164942.45109962,\n",
       "       402080.52966849,  86813.0105811 ,  82097.84361571, 165489.38707872,\n",
       "       189755.98276157, 121924.41704023, 137796.93907123, 211491.4321426 ,\n",
       "       173830.0451977 , 170107.7406174 , 232790.22361804,  50154.80950219,\n",
       "       173887.70679815, 212858.45196098, 173015.75879793, 193793.25723089,\n",
       "       141085.86896626, 117970.41254542, 228434.22002984, 235104.83293893,\n",
       "       188651.02856327, 146878.28228131, 178760.6087007 , 127846.45756531,\n",
       "       131652.14606897, 127603.50293625, 242144.61482712, 111788.47562361,\n",
       "       172608.45680784, 113504.29436046, 163137.09690071, 222189.44509791,\n",
       "       105479.01498255, 205442.51027982, 228269.65601684, 256571.58160218,\n",
       "       172610.65588589, 115958.39480355, 183850.13329482, 138356.3288678 ,\n",
       "       141652.49722655, 151189.76372101, 139071.90723484, 199439.19420014,\n",
       "       361488.15212774, 195840.65594748, 100355.17041749,  69836.36312349,\n",
       "       287126.67596404, 218691.60578714,  88080.16901201, 137122.20699019,\n",
       "       170132.05781173, 158387.32487987, 260392.87812574, 102218.00970129,\n",
       "       210581.31171039, 174904.65317682, 174375.03069732, 202152.30099059,\n",
       "       306472.6104364 , 141642.36313389, 167784.37608139, 227959.08322599,\n",
       "       310077.17832016, 151772.41063931, 124998.68703938, 170683.36287985,\n",
       "       188272.77727329, 285970.5167579 , 197233.19677895, 140898.98404658,\n",
       "        72329.67397894, 177080.18542154, 194013.10631007, 217808.1232449 ,\n",
       "       208514.14995905, 132347.38980129, 156815.64632406, 144085.10989536,\n",
       "       145353.90282564, 118589.66942774, 214791.23547701, 226980.54546543,\n",
       "       274884.55420845, 118865.62837046, 232367.04840524, 160535.09208172,\n",
       "       135583.66370152, 192010.90600532,  92602.96208745, 128050.48998045,\n",
       "       167577.26013795, 253841.28412613, 149651.18755517, 115517.82306422,\n",
       "       124136.83902703, 323154.34819344, 105128.94255655,  69732.73864595,\n",
       "       207022.11387534, 155786.83511556, 161433.14709497, 229615.94063797,\n",
       "       189618.07454592, 167637.83248347, 182176.93622388, 193466.96924438,\n",
       "       124800.46191553, 206992.62404025, 369332.50837682,  91380.6316118 ,\n",
       "       145128.39784966, 165386.62680996, 224569.07158813, 192470.86564025,\n",
       "       157111.76308803, 263779.72016066, 130531.84571111, 141402.87607139,\n",
       "       163170.51855544, 141669.52036265, 248406.42562524, 165777.28018262,\n",
       "       178341.73638324, 175911.65619041, 141736.55213615,  75823.82462612,\n",
       "       293458.9899609 , 220427.97192923, 155007.72635958, 259866.70393502,\n",
       "       204611.87576416, 124577.33594774, 172487.33008659, 186288.69848321,\n",
       "       184799.0003726 , 165151.54561881, 116701.25057476,  86795.78964673,\n",
       "       213497.74458497, 191919.24329979, 227457.82697789,  93477.00995624,\n",
       "       126073.76297554, 129397.78918768, 273939.42579335,  95505.37491793,\n",
       "       334619.96410711, 254379.95068718, 204109.56451966, 331376.31501233,\n",
       "       192975.03677103, 307241.25534882, 174375.03069732, 122702.75694722,\n",
       "       225206.23386264, 225421.85804123, 204273.67792491, 185545.88187164,\n",
       "        83715.18325671, 182275.65251876, 247870.19095417, 241407.63970369,\n",
       "       191089.99443242, 205007.34851321, 206115.71595196, 158757.74000985,\n",
       "       245196.34780617, 221426.03209206, 166274.48043726,  51602.42638807,\n",
       "       195654.8544123 , 167994.2875939 , 143911.90242971, 141785.109907  ,\n",
       "       107234.08365054, 262895.77286444, 118407.76865264, 167696.73322339,\n",
       "       267318.4562269 , 191224.43586473, 211939.54981928, 103010.15067734,\n",
       "       191940.59812469, 156731.80653806, 193599.98609743, 111827.17360817,\n",
       "       132604.58059225, 183896.84305729, 184603.03948089, 166810.88083813,\n",
       "       271772.14668285, 141579.02282733,  65066.0821645 ,  88154.40805402,\n",
       "        88701.84378602, 299842.21626815, 158660.16203563, 227294.53954975,\n",
       "       278521.99611774, 160666.08090276, 391826.05680212, 243174.62660017,\n",
       "       271811.13667933, 186268.7689029 , 323733.39728294, 135723.55013395])"
      ]
     },
     "execution_count": 62,
     "metadata": {},
     "output_type": "execute_result"
    }
   ],
   "source": [
    "y_pred = reg.predict(x_test)\n",
    "y_pred"
   ]
  },
  {
   "cell_type": "code",
   "execution_count": 64,
   "metadata": {},
   "outputs": [
    {
     "name": "stdout",
     "output_type": "stream",
     "text": [
      "-18147.20885296914\n",
      "[-1.86318733e+02  2.90264643e-01  5.77947722e+01  9.31018808e+01\n",
      "  6.58117112e+01 -8.61426742e+00  1.17270554e+02 -7.14650252e+04\n",
      "  3.81204688e+04  8.50981804e+03  4.63088111e+04 -2.70410895e+04\n",
      "  5.56701679e+03]\n"
     ]
    }
   ],
   "source": [
    "print(reg.intercept_)\n",
    "print(reg.coef_)"
   ]
  },
  {
   "cell_type": "code",
   "execution_count": 65,
   "metadata": {},
   "outputs": [
    {
     "data": {
      "text/plain": [
       "0.725209497031192"
      ]
     },
     "execution_count": 65,
     "metadata": {},
     "output_type": "execute_result"
    }
   ],
   "source": [
    "from sklearn.metrics import r2_score\n",
    "r2_score(y_test, y_pred)"
   ]
  },
  {
   "cell_type": "code",
   "execution_count": 66,
   "metadata": {},
   "outputs": [],
   "source": [
    "from statsmodels.regression.linear_model import OLS\n",
    "import statsmodels.regression.linear_model as smf"
   ]
  },
  {
   "cell_type": "code",
   "execution_count": 67,
   "metadata": {},
   "outputs": [
    {
     "data": {
      "text/html": [
       "<table class=\"simpletable\">\n",
       "<caption>OLS Regression Results</caption>\n",
       "<tr>\n",
       "  <th>Dep. Variable:</th>        <td>SalePrice</td>    <th>  R-squared:         </th> <td>   0.680</td> \n",
       "</tr>\n",
       "<tr>\n",
       "  <th>Model:</th>                   <td>OLS</td>       <th>  Adj. R-squared:    </th> <td>   0.677</td> \n",
       "</tr>\n",
       "<tr>\n",
       "  <th>Method:</th>             <td>Least Squares</td>  <th>  F-statistic:       </th> <td>   204.4</td> \n",
       "</tr>\n",
       "<tr>\n",
       "  <th>Date:</th>             <td>Fri, 02 Jul 2021</td> <th>  Prob (F-statistic):</th> <td>1.61e-275</td>\n",
       "</tr>\n",
       "<tr>\n",
       "  <th>Time:</th>                 <td>14:47:38</td>     <th>  Log-Likelihood:    </th> <td> -14167.</td> \n",
       "</tr>\n",
       "<tr>\n",
       "  <th>No. Observations:</th>      <td>  1168</td>      <th>  AIC:               </th> <td>2.836e+04</td>\n",
       "</tr>\n",
       "<tr>\n",
       "  <th>Df Residuals:</th>          <td>  1155</td>      <th>  BIC:               </th> <td>2.843e+04</td>\n",
       "</tr>\n",
       "<tr>\n",
       "  <th>Df Model:</th>              <td>    12</td>      <th>                     </th>     <td> </td>    \n",
       "</tr>\n",
       "<tr>\n",
       "  <th>Covariance Type:</th>      <td>nonrobust</td>    <th>                     </th>     <td> </td>    \n",
       "</tr>\n",
       "</table>\n",
       "<table class=\"simpletable\">\n",
       "<tr>\n",
       "           <td></td>             <th>coef</th>     <th>std err</th>      <th>t</th>      <th>P>|t|</th>  <th>[0.025</th>    <th>0.975]</th>  \n",
       "</tr>\n",
       "<tr>\n",
       "  <th>LotFrontage</th>        <td> -186.3187</td> <td>   71.510</td> <td>   -2.605</td> <td> 0.009</td> <td> -326.623</td> <td>  -46.015</td>\n",
       "</tr>\n",
       "<tr>\n",
       "  <th>LotArea</th>            <td>    0.2903</td> <td>    0.146</td> <td>    1.995</td> <td> 0.046</td> <td>    0.005</td> <td>    0.576</td>\n",
       "</tr>\n",
       "<tr>\n",
       "  <th>MasVnrArea</th>         <td>   57.7948</td> <td>    8.109</td> <td>    7.127</td> <td> 0.000</td> <td>   41.885</td> <td>   73.704</td>\n",
       "</tr>\n",
       "<tr>\n",
       "  <th>1stFlrSF</th>           <td>   93.1019</td> <td>   28.689</td> <td>    3.245</td> <td> 0.001</td> <td>   36.814</td> <td>  149.390</td>\n",
       "</tr>\n",
       "<tr>\n",
       "  <th>2ndFlrSF</th>           <td>   65.8117</td> <td>   28.535</td> <td>    2.306</td> <td> 0.021</td> <td>    9.826</td> <td>  121.798</td>\n",
       "</tr>\n",
       "<tr>\n",
       "  <th>GrLivArea</th>          <td>   -8.6143</td> <td>   27.989</td> <td>   -0.308</td> <td> 0.758</td> <td>  -63.529</td> <td>   46.300</td>\n",
       "</tr>\n",
       "<tr>\n",
       "  <th>GarageArea</th>         <td>  117.2706</td> <td>    7.725</td> <td>   15.180</td> <td> 0.000</td> <td>  102.113</td> <td>  132.428</td>\n",
       "</tr>\n",
       "<tr>\n",
       "  <th>GarageType_2Types</th>  <td>-8.961e+04</td> <td> 2.36e+04</td> <td>   -3.796</td> <td> 0.000</td> <td>-1.36e+05</td> <td>-4.33e+04</td>\n",
       "</tr>\n",
       "<tr>\n",
       "  <th>GarageType_Attchd</th>  <td> 1.997e+04</td> <td> 6023.183</td> <td>    3.316</td> <td> 0.001</td> <td> 8155.654</td> <td> 3.18e+04</td>\n",
       "</tr>\n",
       "<tr>\n",
       "  <th>GarageType_Basment</th> <td>-9637.3908</td> <td> 1.32e+04</td> <td>   -0.731</td> <td> 0.465</td> <td>-3.55e+04</td> <td> 1.62e+04</td>\n",
       "</tr>\n",
       "<tr>\n",
       "  <th>GarageType_BuiltIn</th> <td> 2.816e+04</td> <td> 8327.286</td> <td>    3.382</td> <td> 0.001</td> <td> 1.18e+04</td> <td> 4.45e+04</td>\n",
       "</tr>\n",
       "<tr>\n",
       "  <th>GarageType_CarPort</th> <td>-4.519e+04</td> <td> 1.81e+04</td> <td>   -2.503</td> <td> 0.012</td> <td>-8.06e+04</td> <td>-9770.956</td>\n",
       "</tr>\n",
       "<tr>\n",
       "  <th>GarageType_Detchd</th>  <td>-1.258e+04</td> <td> 5451.735</td> <td>   -2.308</td> <td> 0.021</td> <td>-2.33e+04</td> <td>-1883.779</td>\n",
       "</tr>\n",
       "</table>\n",
       "<table class=\"simpletable\">\n",
       "<tr>\n",
       "  <th>Omnibus:</th>       <td>310.434</td> <th>  Durbin-Watson:     </th> <td>   2.082</td> \n",
       "</tr>\n",
       "<tr>\n",
       "  <th>Prob(Omnibus):</th> <td> 0.000</td>  <th>  Jarque-Bera (JB):  </th> <td>19505.940</td>\n",
       "</tr>\n",
       "<tr>\n",
       "  <th>Skew:</th>          <td>-0.213</td>  <th>  Prob(JB):          </th> <td>    0.00</td> \n",
       "</tr>\n",
       "<tr>\n",
       "  <th>Kurtosis:</th>      <td>23.016</td>  <th>  Cond. No.          </th> <td>2.64e+05</td> \n",
       "</tr>\n",
       "</table><br/><br/>Notes:<br/>[1] Standard Errors assume that the covariance matrix of the errors is correctly specified.<br/>[2] The condition number is large, 2.64e+05. This might indicate that there are<br/>strong multicollinearity or other numerical problems."
      ],
      "text/plain": [
       "<class 'statsmodels.iolib.summary.Summary'>\n",
       "\"\"\"\n",
       "                            OLS Regression Results                            \n",
       "==============================================================================\n",
       "Dep. Variable:              SalePrice   R-squared:                       0.680\n",
       "Model:                            OLS   Adj. R-squared:                  0.677\n",
       "Method:                 Least Squares   F-statistic:                     204.4\n",
       "Date:                Fri, 02 Jul 2021   Prob (F-statistic):          1.61e-275\n",
       "Time:                        14:47:38   Log-Likelihood:                -14167.\n",
       "No. Observations:                1168   AIC:                         2.836e+04\n",
       "Df Residuals:                    1155   BIC:                         2.843e+04\n",
       "Df Model:                          12                                         \n",
       "Covariance Type:            nonrobust                                         \n",
       "======================================================================================\n",
       "                         coef    std err          t      P>|t|      [0.025      0.975]\n",
       "--------------------------------------------------------------------------------------\n",
       "LotFrontage         -186.3187     71.510     -2.605      0.009    -326.623     -46.015\n",
       "LotArea                0.2903      0.146      1.995      0.046       0.005       0.576\n",
       "MasVnrArea            57.7948      8.109      7.127      0.000      41.885      73.704\n",
       "1stFlrSF              93.1019     28.689      3.245      0.001      36.814     149.390\n",
       "2ndFlrSF              65.8117     28.535      2.306      0.021       9.826     121.798\n",
       "GrLivArea             -8.6143     27.989     -0.308      0.758     -63.529      46.300\n",
       "GarageArea           117.2706      7.725     15.180      0.000     102.113     132.428\n",
       "GarageType_2Types  -8.961e+04   2.36e+04     -3.796      0.000   -1.36e+05   -4.33e+04\n",
       "GarageType_Attchd   1.997e+04   6023.183      3.316      0.001    8155.654    3.18e+04\n",
       "GarageType_Basment -9637.3908   1.32e+04     -0.731      0.465   -3.55e+04    1.62e+04\n",
       "GarageType_BuiltIn  2.816e+04   8327.286      3.382      0.001    1.18e+04    4.45e+04\n",
       "GarageType_CarPort -4.519e+04   1.81e+04     -2.503      0.012   -8.06e+04   -9770.956\n",
       "GarageType_Detchd  -1.258e+04   5451.735     -2.308      0.021   -2.33e+04   -1883.779\n",
       "==============================================================================\n",
       "Omnibus:                      310.434   Durbin-Watson:                   2.082\n",
       "Prob(Omnibus):                  0.000   Jarque-Bera (JB):            19505.940\n",
       "Skew:                          -0.213   Prob(JB):                         0.00\n",
       "Kurtosis:                      23.016   Cond. No.                     2.64e+05\n",
       "==============================================================================\n",
       "\n",
       "Notes:\n",
       "[1] Standard Errors assume that the covariance matrix of the errors is correctly specified.\n",
       "[2] The condition number is large, 2.64e+05. This might indicate that there are\n",
       "strong multicollinearity or other numerical problems.\n",
       "\"\"\""
      ]
     },
     "execution_count": 67,
     "metadata": {},
     "output_type": "execute_result"
    }
   ],
   "source": [
    "reg_model = smf.OLS(endog=y_train, exog=x_train).fit()\n",
    "reg_model.summary()"
   ]
  },
  {
   "cell_type": "code",
   "execution_count": null,
   "metadata": {},
   "outputs": [],
   "source": []
  },
  {
   "cell_type": "code",
   "execution_count": null,
   "metadata": {},
   "outputs": [],
   "source": []
  },
  {
   "cell_type": "code",
   "execution_count": null,
   "metadata": {},
   "outputs": [],
   "source": []
  },
  {
   "cell_type": "code",
   "execution_count": 69,
   "metadata": {},
   "outputs": [
    {
     "data": {
      "text/html": [
       "<div>\n",
       "<style scoped>\n",
       "    .dataframe tbody tr th:only-of-type {\n",
       "        vertical-align: middle;\n",
       "    }\n",
       "\n",
       "    .dataframe tbody tr th {\n",
       "        vertical-align: top;\n",
       "    }\n",
       "\n",
       "    .dataframe thead th {\n",
       "        text-align: right;\n",
       "    }\n",
       "</style>\n",
       "<table border=\"1\" class=\"dataframe\">\n",
       "  <thead>\n",
       "    <tr style=\"text-align: right;\">\n",
       "      <th></th>\n",
       "      <th>Id</th>\n",
       "      <th>LotFrontage</th>\n",
       "      <th>LotArea</th>\n",
       "      <th>MasVnrArea</th>\n",
       "      <th>1stFlrSF</th>\n",
       "      <th>2ndFlrSF</th>\n",
       "      <th>GrLivArea</th>\n",
       "      <th>GarageArea</th>\n",
       "      <th>SalePrice</th>\n",
       "    </tr>\n",
       "  </thead>\n",
       "  <tbody>\n",
       "    <tr>\n",
       "      <th>0</th>\n",
       "      <td>1</td>\n",
       "      <td>65.0</td>\n",
       "      <td>8450</td>\n",
       "      <td>196.0</td>\n",
       "      <td>856</td>\n",
       "      <td>854</td>\n",
       "      <td>1710</td>\n",
       "      <td>548</td>\n",
       "      <td>208500</td>\n",
       "    </tr>\n",
       "    <tr>\n",
       "      <th>1</th>\n",
       "      <td>2</td>\n",
       "      <td>80.0</td>\n",
       "      <td>9600</td>\n",
       "      <td>0.0</td>\n",
       "      <td>1262</td>\n",
       "      <td>0</td>\n",
       "      <td>1262</td>\n",
       "      <td>460</td>\n",
       "      <td>181500</td>\n",
       "    </tr>\n",
       "    <tr>\n",
       "      <th>2</th>\n",
       "      <td>3</td>\n",
       "      <td>68.0</td>\n",
       "      <td>11250</td>\n",
       "      <td>162.0</td>\n",
       "      <td>920</td>\n",
       "      <td>866</td>\n",
       "      <td>1786</td>\n",
       "      <td>608</td>\n",
       "      <td>223500</td>\n",
       "    </tr>\n",
       "    <tr>\n",
       "      <th>3</th>\n",
       "      <td>4</td>\n",
       "      <td>60.0</td>\n",
       "      <td>9550</td>\n",
       "      <td>0.0</td>\n",
       "      <td>961</td>\n",
       "      <td>756</td>\n",
       "      <td>1717</td>\n",
       "      <td>642</td>\n",
       "      <td>140000</td>\n",
       "    </tr>\n",
       "    <tr>\n",
       "      <th>4</th>\n",
       "      <td>5</td>\n",
       "      <td>84.0</td>\n",
       "      <td>14260</td>\n",
       "      <td>350.0</td>\n",
       "      <td>1145</td>\n",
       "      <td>1053</td>\n",
       "      <td>2198</td>\n",
       "      <td>836</td>\n",
       "      <td>250000</td>\n",
       "    </tr>\n",
       "  </tbody>\n",
       "</table>\n",
       "</div>"
      ],
      "text/plain": [
       "   Id  LotFrontage  LotArea  MasVnrArea  1stFlrSF  2ndFlrSF  GrLivArea  \\\n",
       "0   1         65.0     8450       196.0       856       854       1710   \n",
       "1   2         80.0     9600         0.0      1262         0       1262   \n",
       "2   3         68.0    11250       162.0       920       866       1786   \n",
       "3   4         60.0     9550         0.0       961       756       1717   \n",
       "4   5         84.0    14260       350.0      1145      1053       2198   \n",
       "\n",
       "   GarageArea  SalePrice  \n",
       "0         548     208500  \n",
       "1         460     181500  \n",
       "2         608     223500  \n",
       "3         642     140000  \n",
       "4         836     250000  "
      ]
     },
     "execution_count": 69,
     "metadata": {},
     "output_type": "execute_result"
    }
   ],
   "source": [
    "#Dropping GarageType Variable\n",
    "dataset.drop('GarageType', axis = 1, inplace = True)\n",
    "dataset.head()"
   ]
  },
  {
   "cell_type": "code",
   "execution_count": 70,
   "metadata": {},
   "outputs": [
    {
     "data": {
      "text/plain": [
       "Index(['Id', 'LotFrontage', 'LotArea', 'MasVnrArea', '1stFlrSF', '2ndFlrSF',\n",
       "       'GrLivArea', 'GarageArea', 'SalePrice'],\n",
       "      dtype='object')"
      ]
     },
     "execution_count": 70,
     "metadata": {},
     "output_type": "execute_result"
    }
   ],
   "source": [
    "dataset.columns"
   ]
  },
  {
   "cell_type": "code",
   "execution_count": 71,
   "metadata": {},
   "outputs": [
    {
     "data": {
      "text/plain": [
       "0       208500\n",
       "1       181500\n",
       "2       223500\n",
       "3       140000\n",
       "4       250000\n",
       "         ...  \n",
       "1455    175000\n",
       "1456    210000\n",
       "1457    266500\n",
       "1458    142125\n",
       "1459    147500\n",
       "Name: SalePrice, Length: 1460, dtype: int64"
      ]
     },
     "execution_count": 71,
     "metadata": {},
     "output_type": "execute_result"
    }
   ],
   "source": [
    "#Independent and Dependent variable\n",
    "x = dataset[['LotFrontage', 'LotArea', 'MasVnrArea', '1stFlrSF', '2ndFlrSF',\n",
    "       'GrLivArea', 'GarageArea',]]\n",
    "x.head()\n",
    "y = dataset['SalePrice']\n",
    "y"
   ]
  },
  {
   "cell_type": "code",
   "execution_count": 73,
   "metadata": {},
   "outputs": [],
   "source": [
    "#Test Train Split\n",
    "from sklearn.model_selection import train_test_split\n",
    "x_train, x_test, y_train, y_test = train_test_split(x,y, test_size=0.20, random_state = 100)\n"
   ]
  },
  {
   "cell_type": "code",
   "execution_count": 74,
   "metadata": {},
   "outputs": [],
   "source": [
    "#Model creation\n",
    "from sklearn.linear_model import LinearRegression\n",
    "reg1 = LinearRegression()"
   ]
  },
  {
   "cell_type": "code",
   "execution_count": 75,
   "metadata": {},
   "outputs": [
    {
     "data": {
      "text/plain": [
       "LinearRegression()"
      ]
     },
     "execution_count": 75,
     "metadata": {},
     "output_type": "execute_result"
    }
   ],
   "source": [
    "reg1.fit(x_train, y_train)"
   ]
  },
  {
   "cell_type": "code",
   "execution_count": 76,
   "metadata": {},
   "outputs": [
    {
     "data": {
      "text/plain": [
       "array([129957.2638894 , 184994.88926804, 155220.67467411, 200470.66459156,\n",
       "       134692.46094993, 228643.8742347 , 204929.52720665, 267539.00090673,\n",
       "       111271.71069097, 194553.64607296, 177590.20228695, 166333.25185385,\n",
       "       197489.63556024, 183952.02474486, 106845.78662572,  99238.89265066,\n",
       "       183637.1354011 , 100175.43525187, 129394.32663843, 117088.71483379,\n",
       "       196212.22118216, 113458.16359073, 198245.79182982, 124934.70054683,\n",
       "       179719.82221139, 107600.15929485,  22450.08271931, 117355.70883081,\n",
       "       186069.25630833, 151978.00253216, 196051.45439658, 172523.16934468,\n",
       "       229116.91969383,  73437.97014318, 123227.97365635, 102516.53054854,\n",
       "       115987.31640733, 114437.66673917, 218726.49655496, 133333.8815991 ,\n",
       "       258700.94824603, 196251.74795556, 229091.29580808, 121549.98805226,\n",
       "       164503.14894558,  70703.39707836, 282466.99277475, 152422.2033419 ,\n",
       "       132221.43167633,  81078.73734401, 248622.73330397, 162868.51551855,\n",
       "       308854.88871105, 226131.13841871, 136425.15264627, 207919.50693798,\n",
       "        66950.56629876, 202178.1591788 , 171268.99312058, 306389.90170185,\n",
       "       125689.367349  , 247945.74085722, 149876.881113  , 141689.74394685,\n",
       "       144078.54962724, 212735.29898066, 112864.75441718, 114613.05771   ,\n",
       "       182884.5703939 , 143072.32300154, 218237.05746043, 287614.45614156,\n",
       "       269797.88521499, 131880.32319391, 180615.01980643, 158874.15365668,\n",
       "       143578.33198335, 210986.70074198, 224854.3424999 , 208124.84167176,\n",
       "       102616.68972022, 186590.64881005, 213294.29929115, 152766.48384883,\n",
       "       393661.04634879,  73481.40271174, 102590.37779034, 152898.8759761 ,\n",
       "       181493.85024255, 107692.48457295, 124258.94979681, 204762.84369782,\n",
       "       270730.50764325, 157328.31097189, 215141.74380023,  65497.09293691,\n",
       "       169884.44958217, 207249.98009353, 162554.93656451, 180992.74709062,\n",
       "       127448.58455834, 134726.00367088, 221765.65212251, 233218.00216505,\n",
       "       180791.3000065 , 125581.41774527, 164968.54904859, 116358.84693005,\n",
       "       113826.63437804, 108694.07657138, 237156.33334292, 130846.73814239,\n",
       "       190516.71864477, 133085.77670566, 154807.21083221, 211128.66434697,\n",
       "       124281.25112828, 200748.55957988, 219829.80655771, 251758.0613158 ,\n",
       "       161254.93141861, 135752.30742993, 171590.42250408, 131477.86296591,\n",
       "       131674.00597924, 143734.95278949, 125692.91880722, 228397.0066116 ,\n",
       "       348575.66031134, 184706.37292832, 119315.61969163,  52080.67499823,\n",
       "       285486.9061713 , 212189.97977554, 108181.2277654 , 119485.39220747,\n",
       "       160615.75820344, 149488.07926928, 253816.54594669, 156447.22753805,\n",
       "       205260.60021442, 166840.43141409, 157776.2292552 , 193192.01970695,\n",
       "       305173.20172663, 132560.61249041, 191736.72478193, 221192.33235601,\n",
       "       297910.24973737, 148048.29617195, 112627.83067553, 159447.38558137,\n",
       "       180830.33162411, 300906.10966498, 188773.93250878, 239026.43694953,\n",
       "        59198.19552833, 207767.86285621, 181348.59230027, 210539.72109901,\n",
       "       203440.32210509, 121253.35392793, 142965.84773324, 131335.17043425,\n",
       "       166271.26505166, 104580.76341508, 212788.36608419, 223166.06382186,\n",
       "       269209.98234195, 137969.11551856, 228196.34491677, 147792.85833962,\n",
       "       126742.00755154, 181558.60733272, 112605.02046029, 145929.86252838,\n",
       "       193396.14264819, 252151.30412554, 173210.65830758, 137015.62885269,\n",
       "       140079.23761673, 309630.87931566, 129342.54696813,  51975.01911601,\n",
       "       198174.47247361, 173508.32778452, 151160.95351241, 217249.79008194,\n",
       "       216757.56558856, 159408.40492663, 180424.67613538, 184310.8150495 ,\n",
       "       146786.86938989, 201319.35385535, 370527.17890191,  79681.2321693 ,\n",
       "       135967.71059072, 158663.92257761, 213917.11508108, 181414.03398926,\n",
       "       180841.65913598, 257805.24412211, 119353.68302468, 132153.13818216,\n",
       "       150956.26563671, 155117.29938049, 246178.45255332, 156120.4532937 ,\n",
       "       169616.21960883, 164457.71765828, 156915.04691669,  92864.87833189,\n",
       "       290274.41927764, 212595.04454784, 148885.80779608, 254626.33502053,\n",
       "       226310.97752896, 110155.22577395, 162076.08094217, 175711.20600416,\n",
       "       175655.63388024, 183249.43213047, 132877.80779123, 112443.95388936,\n",
       "       206501.76803497, 173062.49570946, 217254.51243803, 113544.12805921,\n",
       "       147457.8683364 , 144930.41958915, 257809.63614881, 116450.72217465,\n",
       "       332549.195602  , 247622.15485353, 193575.51528444, 324901.86099962,\n",
       "       184539.47072284, 306333.04141641, 157776.2292552 , 141705.32418515,\n",
       "       213563.13620642, 220807.58008589, 197854.57068015, 174614.39045766,\n",
       "        71997.61460325, 168589.89749962, 240726.03528918, 233677.11035765,\n",
       "       179148.72480469, 191632.54078659, 201644.73337237, 181101.14686961,\n",
       "       242465.67884004, 218716.24213021, 156043.72360455, 102407.5401542 ,\n",
       "       184552.3814948 , 158043.21806924, 156917.69312133, 155247.33733978,\n",
       "        91205.93153658, 249487.56671545, 141934.98415129, 157149.95920835,\n",
       "       261468.06199564, 218400.17555569, 198507.15230783,  96185.34292236,\n",
       "       185386.33764939, 148609.03748115, 179633.50547699, 133974.60917534,\n",
       "       146545.77555915, 168950.85986874, 173966.42780771, 160431.86009574,\n",
       "       267575.83940255, 131420.63544756,  83190.18518242, 105625.90649338,\n",
       "       108239.27629463, 297699.1497119 , 149525.95397998, 257883.81546007,\n",
       "       275206.63354159, 149469.03722286, 392066.54195877, 272474.41666441,\n",
       "       263185.10568816, 170878.17012826, 320887.609885  , 149500.84732751])"
      ]
     },
     "execution_count": 76,
     "metadata": {},
     "output_type": "execute_result"
    }
   ],
   "source": [
    "y_pred1 = reg1.predict(x_test)\n",
    "y_pred1"
   ]
  },
  {
   "cell_type": "code",
   "execution_count": 77,
   "metadata": {},
   "outputs": [
    {
     "data": {
      "text/plain": [
       "0.7099164249210489"
      ]
     },
     "execution_count": 77,
     "metadata": {},
     "output_type": "execute_result"
    }
   ],
   "source": [
    "#Model evaluation\n",
    "from sklearn.metrics import r2_score\n",
    "r2_score(y_test, y_pred1)"
   ]
  },
  {
   "cell_type": "code",
   "execution_count": 78,
   "metadata": {},
   "outputs": [],
   "source": [
    "#OLS method\n",
    "from statsmodels.regression.linear_model import OLS\n",
    "import statsmodels.regression.linear_model as smf1"
   ]
  },
  {
   "cell_type": "code",
   "execution_count": 79,
   "metadata": {},
   "outputs": [
    {
     "data": {
      "text/html": [
       "<table class=\"simpletable\">\n",
       "<caption>OLS Regression Results</caption>\n",
       "<tr>\n",
       "  <th>Dep. Variable:</th>        <td>SalePrice</td>    <th>  R-squared (uncentered):</th>      <td>   0.942</td> \n",
       "</tr>\n",
       "<tr>\n",
       "  <th>Model:</th>                   <td>OLS</td>       <th>  Adj. R-squared (uncentered):</th> <td>   0.941</td> \n",
       "</tr>\n",
       "<tr>\n",
       "  <th>Method:</th>             <td>Least Squares</td>  <th>  F-statistic:       </th>          <td>   2686.</td> \n",
       "</tr>\n",
       "<tr>\n",
       "  <th>Date:</th>             <td>Fri, 02 Jul 2021</td> <th>  Prob (F-statistic):</th>           <td>  0.00</td>  \n",
       "</tr>\n",
       "<tr>\n",
       "  <th>Time:</th>                 <td>15:13:42</td>     <th>  Log-Likelihood:    </th>          <td> -14236.</td> \n",
       "</tr>\n",
       "<tr>\n",
       "  <th>No. Observations:</th>      <td>  1168</td>      <th>  AIC:               </th>          <td>2.849e+04</td>\n",
       "</tr>\n",
       "<tr>\n",
       "  <th>Df Residuals:</th>          <td>  1161</td>      <th>  BIC:               </th>          <td>2.852e+04</td>\n",
       "</tr>\n",
       "<tr>\n",
       "  <th>Df Model:</th>              <td>     7</td>      <th>                     </th>              <td> </td>    \n",
       "</tr>\n",
       "<tr>\n",
       "  <th>Covariance Type:</th>      <td>nonrobust</td>    <th>                     </th>              <td> </td>    \n",
       "</tr>\n",
       "</table>\n",
       "<table class=\"simpletable\">\n",
       "<tr>\n",
       "       <td></td>          <th>coef</th>     <th>std err</th>      <th>t</th>      <th>P>|t|</th>  <th>[0.025</th>    <th>0.975]</th>  \n",
       "</tr>\n",
       "<tr>\n",
       "  <th>LotFrontage</th> <td> -124.0255</td> <td>   66.071</td> <td>   -1.877</td> <td> 0.061</td> <td> -253.658</td> <td>    5.607</td>\n",
       "</tr>\n",
       "<tr>\n",
       "  <th>LotArea</th>     <td>    0.3162</td> <td>    0.153</td> <td>    2.068</td> <td> 0.039</td> <td>    0.016</td> <td>    0.616</td>\n",
       "</tr>\n",
       "<tr>\n",
       "  <th>MasVnrArea</th>  <td>   67.4030</td> <td>    8.298</td> <td>    8.123</td> <td> 0.000</td> <td>   51.122</td> <td>   83.684</td>\n",
       "</tr>\n",
       "<tr>\n",
       "  <th>1stFlrSF</th>    <td>  127.9994</td> <td>   30.051</td> <td>    4.259</td> <td> 0.000</td> <td>   69.039</td> <td>  186.960</td>\n",
       "</tr>\n",
       "<tr>\n",
       "  <th>2ndFlrSF</th>    <td>   96.1686</td> <td>   29.968</td> <td>    3.209</td> <td> 0.001</td> <td>   37.371</td> <td>  154.966</td>\n",
       "</tr>\n",
       "<tr>\n",
       "  <th>GrLivArea</th>   <td>  -35.5520</td> <td>   29.473</td> <td>   -1.206</td> <td> 0.228</td> <td>  -93.379</td> <td>   22.275</td>\n",
       "</tr>\n",
       "<tr>\n",
       "  <th>GarageArea</th>  <td>  106.5920</td> <td>    7.987</td> <td>   13.346</td> <td> 0.000</td> <td>   90.922</td> <td>  122.262</td>\n",
       "</tr>\n",
       "</table>\n",
       "<table class=\"simpletable\">\n",
       "<tr>\n",
       "  <th>Omnibus:</th>       <td>343.626</td> <th>  Durbin-Watson:     </th> <td>   2.050</td> \n",
       "</tr>\n",
       "<tr>\n",
       "  <th>Prob(Omnibus):</th> <td> 0.000</td>  <th>  Jarque-Bera (JB):  </th> <td>16679.958</td>\n",
       "</tr>\n",
       "<tr>\n",
       "  <th>Skew:</th>          <td>-0.547</td>  <th>  Prob(JB):          </th> <td>    0.00</td> \n",
       "</tr>\n",
       "<tr>\n",
       "  <th>Kurtosis:</th>      <td>21.481</td>  <th>  Cond. No.          </th> <td>    685.</td> \n",
       "</tr>\n",
       "</table><br/><br/>Notes:<br/>[1] R² is computed without centering (uncentered) since the model does not contain a constant.<br/>[2] Standard Errors assume that the covariance matrix of the errors is correctly specified."
      ],
      "text/plain": [
       "<class 'statsmodels.iolib.summary.Summary'>\n",
       "\"\"\"\n",
       "                                 OLS Regression Results                                \n",
       "=======================================================================================\n",
       "Dep. Variable:              SalePrice   R-squared (uncentered):                   0.942\n",
       "Model:                            OLS   Adj. R-squared (uncentered):              0.941\n",
       "Method:                 Least Squares   F-statistic:                              2686.\n",
       "Date:                Fri, 02 Jul 2021   Prob (F-statistic):                        0.00\n",
       "Time:                        15:13:42   Log-Likelihood:                         -14236.\n",
       "No. Observations:                1168   AIC:                                  2.849e+04\n",
       "Df Residuals:                    1161   BIC:                                  2.852e+04\n",
       "Df Model:                           7                                                  \n",
       "Covariance Type:            nonrobust                                                  \n",
       "===============================================================================\n",
       "                  coef    std err          t      P>|t|      [0.025      0.975]\n",
       "-------------------------------------------------------------------------------\n",
       "LotFrontage  -124.0255     66.071     -1.877      0.061    -253.658       5.607\n",
       "LotArea         0.3162      0.153      2.068      0.039       0.016       0.616\n",
       "MasVnrArea     67.4030      8.298      8.123      0.000      51.122      83.684\n",
       "1stFlrSF      127.9994     30.051      4.259      0.000      69.039     186.960\n",
       "2ndFlrSF       96.1686     29.968      3.209      0.001      37.371     154.966\n",
       "GrLivArea     -35.5520     29.473     -1.206      0.228     -93.379      22.275\n",
       "GarageArea    106.5920      7.987     13.346      0.000      90.922     122.262\n",
       "==============================================================================\n",
       "Omnibus:                      343.626   Durbin-Watson:                   2.050\n",
       "Prob(Omnibus):                  0.000   Jarque-Bera (JB):            16679.958\n",
       "Skew:                          -0.547   Prob(JB):                         0.00\n",
       "Kurtosis:                      21.481   Cond. No.                         685.\n",
       "==============================================================================\n",
       "\n",
       "Notes:\n",
       "[1] R² is computed without centering (uncentered) since the model does not contain a constant.\n",
       "[2] Standard Errors assume that the covariance matrix of the errors is correctly specified.\n",
       "\"\"\""
      ]
     },
     "execution_count": 79,
     "metadata": {},
     "output_type": "execute_result"
    }
   ],
   "source": [
    "reg_model1 = smf1.OLS(endog=y_train, exog=x_train).fit()\n",
    "reg_model1.summary()"
   ]
  },
  {
   "cell_type": "markdown",
   "metadata": {},
   "source": [
    "# 1. Inclusion of Catogorical variable 'GarageType': r2_score: 72.5 & Adjusted R squared: 67.7\n",
    "\n",
    "\n",
    "\n",
    "#2. Enclusion of Catogorical variable 'GarageType': r2_score: 70.9 & Adjusted R squared: 94.1"
   ]
  }
 ],
 "metadata": {
  "kernelspec": {
   "display_name": "Python 3",
   "language": "python",
   "name": "python3"
  },
  "language_info": {
   "codemirror_mode": {
    "name": "ipython",
    "version": 3
   },
   "file_extension": ".py",
   "mimetype": "text/x-python",
   "name": "python",
   "nbconvert_exporter": "python",
   "pygments_lexer": "ipython3",
   "version": "3.8.5"
  }
 },
 "nbformat": 4,
 "nbformat_minor": 4
}
